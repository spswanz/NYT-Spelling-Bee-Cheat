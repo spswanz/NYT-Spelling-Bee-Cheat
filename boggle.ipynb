{
 "cells": [
  {
   "cell_type": "markdown",
   "id": "7989e379-5c65-45a6-a2ea-e8b5f94c22a6",
   "metadata": {},
   "source": [
    "Written to solve https://www.nytimes.com/svc/crosswords/v2/puzzle/print/Dec1221.2.pdf\n",
    "'Sit for a Spell' by Will Shortz in *The New York Times* (Dec 12, 2021).\n",
    "\n",
    "Rules: Words must be 6 letters or more and contain at least one pair of doubled leters. \n"
   ]
  },
  {
   "cell_type": "code",
   "execution_count": 2,
   "id": "1aa7f4df-cee4-4e9c-8829-defee3ccba4d",
   "metadata": {},
   "outputs": [],
   "source": [
    "import random\n",
    "import string\n",
    "#\n",
    "word_file = open('twl06.txt', 'r')\n",
    "word_l = []\n",
    "for l in word_file.readlines():\n",
    "    word_l.append(l.strip())\n",
    "word_file.close()\n",
    "\n",
    "\n"
   ]
  },
  {
   "cell_type": "code",
   "execution_count": 3,
   "id": "9dae40f8-51ba-4fd3-91d4-9bb80d90f54b",
   "metadata": {},
   "outputs": [],
   "source": [
    "beehive = \"hmscpboidtlen\"\n",
    "\n",
    "adjacency_dict = {\n",
    "    'h': ['b', 'c','o','s','m'],\n",
    "    'm': ['h', 's', 'p','i', 'o'],\n",
    "    's': ['h','m','p','o','c'],\n",
    "    'c': ['h','s','o','d','b'],\n",
    "    'p': ['m','i','t','o','s'],\n",
    "    'b': ['h','c','d','l', 'o'],\n",
    "    'o': ['s','m','p','i','t','e','n','d','b','c','h','l'],\n",
    "    'i': ['p','e','m','t','o'],\n",
    "    'd': ['c','o','n','l','b'],\n",
    "    't': ['p','i','e','n','o'],\n",
    "    'n': ['o','t','e','l','d'],\n",
    "    'l': ['d','o','n','e','b'],\n",
    "    'e': ['t','i','l','n','o']\n",
    "          }\n"
   ]
  },
  {
   "cell_type": "code",
   "execution_count": 4,
   "id": "de1c608c-8367-489d-a721-e511b0b340ad",
   "metadata": {},
   "outputs": [
    {
     "name": "stdout",
     "output_type": "stream",
     "text": [
      "178691\n",
      "7345\n"
     ]
    }
   ],
   "source": [
    "# reduce wordlist to set letters and length > 5\n",
    "word_list = []\n",
    "\n",
    "all_ltrs = []\n",
    "\n",
    "for w in word_l:\n",
    "    if len(w) > 5 and set(w).issubset(set(beehive)):\n",
    "        word_list.append(w)\n",
    "        \n",
    "print(len(word_l))  #178691\n",
    "print(len(word_list))  #7345\n",
    "\n"
   ]
  },
  {
   "cell_type": "code",
   "execution_count": 5,
   "id": "6ddfa2c8-937b-4d68-ba72-2dbcf5100a13",
   "metadata": {},
   "outputs": [
    {
     "name": "stdout",
     "output_type": "stream",
     "text": [
      "2468\n"
     ]
    }
   ],
   "source": [
    "# reduce wordlist to words with doubled letters\n",
    "\n",
    "dbl_word_list = []\n",
    "for word in word_list:\n",
    "    for i in range(len(word)):\n",
    "        try:\n",
    "            curr = word[i]\n",
    "            next = word[i+1]\n",
    "            if bool(curr == next) is True:\n",
    "                dbl_word_list.append(word)\n",
    "                break   # only need one so stop looking after first\n",
    "            else:\n",
    "                pass\n",
    "\n",
    "        except:\n",
    "            pass\n",
    "    \n",
    "print(len(dbl_word_list)) #2468"
   ]
  },
  {
   "cell_type": "code",
   "execution_count": 15,
   "id": "f68c380a-abfb-4529-9664-fb3901176c39",
   "metadata": {},
   "outputs": [],
   "source": [
    "def check_path(word):\n",
    "    for i in range(len(word)):\n",
    "        try:\n",
    "            curr = word[i]\n",
    "            next = word[i+1]\n",
    "            \n",
    "            if next == curr or next in adjacency_dict[curr]: # if double or neighbor\n",
    "                # print(\"On valid path so far\")\n",
    "                continue\n",
    "            else:\n",
    "                # print(\"No valid path\")\n",
    "                break\n",
    "        except:  # will trigger when i+1 is beyond end of word; if reaches this far, then valid\n",
    "            valid_words.append(word)     \n",
    "            "
   ]
  },
  {
   "cell_type": "code",
   "execution_count": 21,
   "id": "96e0de9b-a092-490d-84b8-c08da065389f",
   "metadata": {},
   "outputs": [
    {
     "name": "stdout",
     "output_type": "stream",
     "text": [
      "['blooie', 'blooms', 'bloops', 'blossom', 'blossoms', 'blotto', 'bobble', 'bonnet', 'booboo', 'booboos', 'boocoo', 'boocoos', 'boodle', 'boohoo', 'boohoos', 'bootee', 'bootie', 'botonee', 'botonnee', 'bottom', 'bottoms', 'cobble', 'cocoon', 'cocotte', 'coddle', 'coldblood', 'colleen', 'collet', 'collop', 'collops', 'commie', 'commit', 'committee', 'common', 'commotion', 'connote', 'coocoo', 'coontie', 'cooption', 'cootie', 'cotton', 'dollop', 'dollops', 'donnee', 'doodle', 'doodoo', 'doodoos', 'doolee', 'dottel', 'ennoble', 'hobble', 'holloo', 'holloos', 'hollos', 'hommos', 'hoodoo', 'hoodoos', 'hoopoe', 'hoopoo', 'hoopoos', 'hottie', 'lollop', 'lollops', 'lottos', 'mitten', 'moonlet', 'mottos', 'nobble', 'noddle', 'nonnoble', 'noodle', 'opponent', 'optionee', 'pollee', 'pollen', 'pommie', 'pontoon', 'poodle', 'poteen', 'potteen', 'pottos', 'schmoos', 'school', 'scollop', 'scollops', 'scooch', 'scoops', 'scottie', 'shotten', 'smitten', 'smooch', 'smoosh', 'sonnet', 'spittoon', 'spontoon', 'tittie', 'toddle', 'tonette', 'tosspot']\n",
      "99\n"
     ]
    }
   ],
   "source": [
    "valid_words = []\n",
    "def main():\n",
    "    for word in dbl_word_list:\n",
    "        check_path(word)\n",
    "main()\n",
    "print(sorted(valid_words))\n",
    "print(len(valid_words))"
   ]
  },
  {
   "cell_type": "code",
   "execution_count": null,
   "id": "6aa03cf7-7ab5-4920-9d26-134c3446e953",
   "metadata": {},
   "outputs": [],
   "source": []
  }
 ],
 "metadata": {
  "kernelspec": {
   "display_name": "Python 3.9.7 64-bit",
   "language": "python",
   "name": "python397jvsc74a57bd0b0fa6594d8f4cbf19f97940f81e996739fb7646882a419484c72d19e05852a7e"
  },
  "language_info": {
   "codemirror_mode": {
    "name": "ipython",
    "version": 3
   },
   "file_extension": ".py",
   "mimetype": "text/x-python",
   "name": "python",
   "nbconvert_exporter": "python",
   "pygments_lexer": "ipython3",
   "version": "3.9.7"
  }
 },
 "nbformat": 4,
 "nbformat_minor": 5
}
